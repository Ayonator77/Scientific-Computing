{
  "nbformat": 4,
  "nbformat_minor": 0,
  "metadata": {
    "colab": {
      "provenance": [],
      "include_colab_link": true
    },
    "kernelspec": {
      "name": "python3",
      "display_name": "Python 3"
    }
  },
  "cells": [
    {
      "cell_type": "markdown",
      "metadata": {
        "id": "view-in-github",
        "colab_type": "text"
      },
      "source": [
        "<a href=\"https://colab.research.google.com/github/Ayonator77/Scientific-Computing/blob/main/PowerMethods.ipynb\" target=\"_parent\"><img src=\"https://colab.research.google.com/assets/colab-badge.svg\" alt=\"Open In Colab\"/></a>"
      ]
    },
    {
      "cell_type": "code",
      "metadata": {
        "id": "h0wUKR-rAQSc"
      },
      "source": [
        "import numpy as np"
      ],
      "execution_count": null,
      "outputs": []
    },
    {
      "cell_type": "markdown",
      "metadata": {
        "id": "K_mBip_4Av2E"
      },
      "source": [
        "Power Method implementation for a matrix that takes a matrix $A$, an intial vector ${\\vec{\\textbf{x}}}$, and the number of iterations $n$. This function returns the dominant eigenvalue and its corresponding vector. Notice that we normalize the vector inbetween iterations using the $||x||_{\\infty}$ norm."
      ]
    },
    {
      "cell_type": "code",
      "metadata": {
        "id": "qhBBQa4X8-sh"
      },
      "source": [
        "def powerMethod(A, x, n):\n",
        "  phi = lambda x: x[0]\n",
        "  for i in range(n):\n",
        "    y = A.dot(x)\n",
        "    eva = phi(y)/phi(x)\n",
        "    x = y/np.linalg.norm(y)\n",
        "  return eva, x"
      ],
      "execution_count": null,
      "outputs": []
    },
    {
      "cell_type": "markdown",
      "metadata": {
        "id": "EXx9C6zzBwgk"
      },
      "source": [
        "Inverse Power Method implementation for a matrix that takes a matrix $A$, an intial vector ${\\vec{\\textbf{x}}}$, and the number of iterations $n$. This function returns the eigenvalue of least magnitude and its coresponding eigenvector."
      ]
    },
    {
      "cell_type": "code",
      "metadata": {
        "id": "HzVJ84rJNUya"
      },
      "source": [
        "def invPowerMethod(A, x_0, n):\n",
        "  A_inv = np.linalg.inv(A)\n",
        "  eva, eve = powerMethod(A_inv, x_0, n)\n",
        "  eva = 1 / eva\n",
        "  return eva, eve"
      ],
      "execution_count": null,
      "outputs": []
    },
    {
      "cell_type": "markdown",
      "metadata": {
        "id": "Ih68c3-4C17n"
      },
      "source": [
        "Shifted Power Method implementation for a matrix that takes a matrix $A$, a scalar $\\alpha$ an intial vector ${\\vec{\\textbf{x}}}$, and the number of iterations $n$. This function returns the eigenvalue furthest away from $\\alpha$ and its coresponding eigenvector. Notice the only real change is that we replace $A$ with the shifted matrix $\\left(A - \\alpha I\\right)$, where $I$ is the identity matrix."
      ]
    },
    {
      "cell_type": "code",
      "metadata": {
        "id": "buI--J5WZap0"
      },
      "source": [
        "def shiftPowerMethod(A, alpha, x_0, n):\n",
        "  A = A - alpha*np.identity(np.linalg.matrix_rank(A)) # (A - alpha*I)\n",
        "  eva, eve = powerMethod(A, x_0, n)\n",
        "  eva += alpha\n",
        "  return eva, eve"
      ],
      "execution_count": null,
      "outputs": []
    },
    {
      "cell_type": "markdown",
      "metadata": {
        "id": "uWqhE4nVDRfQ"
      },
      "source": [
        "Shifted Inverse Power Method implementation for a matrix that takes a matrix $A$, a scalar $\\alpha$ an intial vector ${\\vec{\\textbf{x}}}$, and the number of iterations $n$. This function returns the eigenvalue closest to $\\alpha$ and its coresponding eigenvector."
      ]
    },
    {
      "cell_type": "code",
      "metadata": {
        "id": "QUfdXoTvZfRX"
      },
      "source": [
        "def shiftInvPowerMethod(A, alpha, x_0, n):\n",
        "  # (A - alpha*I)^-1\n",
        "  A = np.linalg.inv(A - alpha*np.identity(np.linalg.matrix_rank(A)))\n",
        "  eva, eve = powerMethod(A, x_0, n)\n",
        "  eva = (1 / eva) + alpha\n",
        "  return eva, eve"
      ],
      "execution_count": null,
      "outputs": []
    },
    {
      "cell_type": "markdown",
      "metadata": {
        "id": "CLg41MHaDhaU"
      },
      "source": [
        "Example matricies and starting vectors."
      ]
    },
    {
      "cell_type": "code",
      "metadata": {
        "id": "UYGrumkY9CYQ"
      },
      "source": [
        "# example matrix 0 - project 2\n",
        "A = np.array([[-2,1,0,0,0],\n",
        "              [1,-2,1,0,0],\n",
        "              [0,1,-2,1,0],\n",
        "              [0,0,1,-2,1],\n",
        "              [0,0,0,1,-1]])\n",
        "# example matrix 1\n",
        "B = np.array([[3,1],\n",
        "              [1,3]])\n",
        "# example matrix 2\n",
        "C = np.array([[2,-1,0],\n",
        "              [-1,2,-1],\n",
        "              [0,-1,2]])\n",
        "# generic starting vecors\n",
        "x1 = np.array([1,1,1,1,1])\n",
        "x2 = np.array([-1,-1])\n",
        "x3 = np.array([100,100,100])"
      ],
      "execution_count": null,
      "outputs": []
    },
    {
      "cell_type": "markdown",
      "metadata": {
        "id": "YeOgmQHYDlXO"
      },
      "source": [
        "Numpy linear alegbra library is used to compute real* answers for us to compare to."
      ]
    },
    {
      "cell_type": "code",
      "metadata": {
        "id": "5ZfeCdgg4m-s",
        "colab": {
          "base_uri": "https://localhost:8080/",
          "height": 69
        },
        "outputId": "cb42c040-9a05-4ea9-ce02-84a77d5b3ece"
      },
      "source": [
        "# Numpy linear alegbra library\n",
        "et, vt = np.linalg.eig(A)\n",
        "print('The Numpy Eigenvalues are:\\n', et, '\\n')\n",
        "#print('The Numpy Eigenvectors are:\\n', vt)"
      ],
      "execution_count": null,
      "outputs": [
        {
          "output_type": "stream",
          "text": [
            "The Numpy Eigenvalues are:\n",
            " [-3.68250707 -2.83083003 -1.71537032 -0.69027853 -0.08101405] \n",
            "\n"
          ],
          "name": "stdout"
        }
      ]
    },
    {
      "cell_type": "markdown",
      "metadata": {
        "id": "hduVIawSEHL0"
      },
      "source": [
        "Power Method example."
      ]
    },
    {
      "cell_type": "code",
      "metadata": {
        "id": "2iMpUQni09SY",
        "colab": {
          "base_uri": "https://localhost:8080/",
          "height": 86
        },
        "outputId": "08fc0e4b-6920-40b7-cd69-2c49b18de3a0"
      },
      "source": [
        "# Vanilla Power Method (With normalization mind you)\n",
        "for i in range(50,201,50):\n",
        "  e1, v1 = powerMethod(A, x1, i)\n",
        "  print('The power method computes the dominant Eigenvalue:', e1, 'using', i, 'iterations.') # Eigenvalues\n",
        "  #print('The power method computes the dominant* Eigenvector using', i, 'iterations:\\n', v1) # Eigenvectors"
      ],
      "execution_count": null,
      "outputs": [
        {
          "output_type": "stream",
          "text": [
            "The power method computes the dominant Eigenvalue: -3.682499137829017 using 50 iterations.\n",
            "The power method computes the dominant Eigenvalue: -3.6825070656469565 using 100 iterations.\n",
            "The power method computes the dominant Eigenvalue: -3.682507065662362 using 150 iterations.\n",
            "The power method computes the dominant Eigenvalue: -3.682507065662362 using 200 iterations.\n"
          ],
          "name": "stdout"
        }
      ]
    },
    {
      "cell_type": "markdown",
      "metadata": {
        "id": "ENU0NgzqEPMA"
      },
      "source": [
        "Inverse Power Method example."
      ]
    },
    {
      "cell_type": "code",
      "metadata": {
        "id": "g8pAC_v47drX",
        "colab": {
          "base_uri": "https://localhost:8080/",
          "height": 103
        },
        "outputId": "645bce8d-729e-402e-f5e2-fdecb7f12e56"
      },
      "source": [
        "# Inverse Power Method (Also with normalization)\n",
        "for i in range(5,26,5):\n",
        "  e2, v2 = invPowerMethod(A, x1, i)\n",
        "  print('The inverse power method computes the minimum Eigenvalue:', e2, 'using', i, 'iterations.') # Eigenvalues\n",
        "  #print('The inverse power method computes the minimum* Eigenvector using', i, 'iterations:\\n', v2) # Eigenvectors"
      ],
      "execution_count": null,
      "outputs": [
        {
          "output_type": "stream",
          "text": [
            "The inverse power method computes the minimum Eigenvalue: -0.08102575153539487 using 5 iterations.\n",
            "The inverse power method computes the minimum Eigenvalue: -0.08101405302620104 using 10 iterations.\n",
            "The inverse power method computes the minimum Eigenvalue: -0.0810140527710109 using 15 iterations.\n",
            "The inverse power method computes the minimum Eigenvalue: -0.08101405277100521 using 20 iterations.\n",
            "The inverse power method computes the minimum Eigenvalue: -0.08101405277100521 using 25 iterations.\n"
          ],
          "name": "stdout"
        }
      ]
    },
    {
      "cell_type": "markdown",
      "metadata": {
        "id": "2kJ6CbPEEWBw"
      },
      "source": [
        "Shifted Power Method example."
      ]
    },
    {
      "cell_type": "code",
      "metadata": {
        "id": "Pwydrk7s9GUg",
        "colab": {
          "base_uri": "https://localhost:8080/",
          "height": 106
        },
        "outputId": "fb5679a8-88b7-407f-c004-cad99feee3f9"
      },
      "source": [
        "# Shifted Power Method (Yep, still normalized)\n",
        "for i in range(50,201,50):\n",
        "  e3, v3 = shiftPowerMethod(A, -.01, x1, i)\n",
        "  print('The shifted power method computes the Eigenvalue farthest away from alpha:',\n",
        "        e3, 'using', i, 'iterations.') # Eigenvalues\n",
        "  #print('The shifted power method computes the Eigenvalue farthest away from alpha:',\n",
        "        #i, 'iterations:\\n', v3) # Eigenvectors"
      ],
      "execution_count": null,
      "outputs": [
        {
          "output_type": "stream",
          "text": [
            "The shifted power method computes the Eigenvalue farthest away from alpha: -3.6824994498847308 using 50 iterations.\n",
            "The shifted power method computes the Eigenvalue farthest away from alpha: -3.6825070656481573 using 100 iterations.\n",
            "The shifted power method computes the Eigenvalue farthest away from alpha: -3.682507065662362 using 150 iterations.\n",
            "The shifted power method computes the Eigenvalue farthest away from alpha: -3.682507065662362 using 200 iterations.\n"
          ],
          "name": "stdout"
        }
      ]
    },
    {
      "cell_type": "markdown",
      "metadata": {
        "id": "Ar5jWQ_fEZ4Q"
      },
      "source": [
        "Shifted Inverse Power Method example."
      ]
    },
    {
      "cell_type": "code",
      "metadata": {
        "id": "2gWRwtdk-RoF",
        "colab": {
          "base_uri": "https://localhost:8080/",
          "height": 106
        },
        "outputId": "5a16dcc3-fb82-48da-ccbe-b62a639baffa"
      },
      "source": [
        "# Shifted Inverse Power Method (Don't even ask)\n",
        "for i in range(50,201,50):\n",
        "  e4, v4 = shiftInvPowerMethod(A, -1.1, x1, i)\n",
        "  print('The shifted inverse power method computes the Eigenvalue closest to alpha:',\n",
        "        e4, 'using', i, 'iterations.') # Eigenvalues\n",
        "  #print('The shifted power method computes the Eigenvalue closest to alpha:',\n",
        "        #i, 'iterations:\\n', v4) # Eigenvectors"
      ],
      "execution_count": null,
      "outputs": [
        {
          "output_type": "stream",
          "text": [
            "The shifted inverse power method computes the Eigenvalue closest to alpha: -0.6902785321094298 using 50 iterations.\n",
            "The shifted inverse power method computes the Eigenvalue closest to alpha: -0.6902785321094298 using 100 iterations.\n",
            "The shifted inverse power method computes the Eigenvalue closest to alpha: -0.6902785321094298 using 150 iterations.\n",
            "The shifted inverse power method computes the Eigenvalue closest to alpha: -0.6902785321094298 using 200 iterations.\n"
          ],
          "name": "stdout"
        }
      ]
    }
  ]
}
