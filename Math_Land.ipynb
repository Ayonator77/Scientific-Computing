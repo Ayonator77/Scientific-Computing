{
  "nbformat": 4,
  "nbformat_minor": 0,
  "metadata": {
    "colab": {
      "provenance": [],
      "machine_shape": "hm",
      "include_colab_link": true
    },
    "kernelspec": {
      "name": "python3",
      "display_name": "Python 3"
    }
  },
  "cells": [
    {
      "cell_type": "markdown",
      "metadata": {
        "id": "view-in-github",
        "colab_type": "text"
      },
      "source": [
        "<a href=\"https://colab.research.google.com/github/Ayonator77/Scientific-Computing/blob/main/Math_Land.ipynb\" target=\"_parent\"><img src=\"https://colab.research.google.com/assets/colab-badge.svg\" alt=\"Open In Colab\"/></a>"
      ]
    },
    {
      "cell_type": "code",
      "metadata": {
        "id": "hgQUH9vtkRiW"
      },
      "source": [
        "# import timeit\n",
        "# import random\n",
        "from sympy import *\n",
        "import numpy as np\n",
        "from matplotlib import pyplot as plt\n",
        "from mpl_toolkits.axes_grid1.inset_locator import zoomed_inset_axes\n",
        "from mpl_toolkits.axes_grid1.inset_locator import mark_inset\n",
        "from scipy.interpolate import make_interp_spline, BSpline"
      ],
      "execution_count": null,
      "outputs": []
    },
    {
      "cell_type": "code",
      "metadata": {
        "id": "lHCr9pZAC8g9"
      },
      "source": [
        "def decToBase(n, base):\n",
        "  '''Version 1.3. Converts Decimal integers, for n > 0, to any base. Returns string or list of the base representation. Works in python 3 and higher'''\n",
        "  h = {10: 'A', 11: 'B', 12: 'C', 13: 'D', 14: 'E', 15: 'F'} # enables bases up to 16\n",
        "  ans = []\n",
        "  while n > 0:\n",
        "    remainder = n % base\n",
        "    try:\n",
        "      ans.insert(0, h[int(remainder)])\n",
        "    except:\n",
        "      ans.insert(0, int(remainder))\n",
        "    n = n // base\n",
        "  ans = ''.join(map(str, ans)) # this line of code changes the list to a string, comment this out for sage\n",
        "  return ans"
      ],
      "execution_count": null,
      "outputs": []
    },
    {
      "cell_type": "code",
      "metadata": {
        "id": "nM__GoM7BGzy",
        "colab": {
          "base_uri": "https://localhost:8080/",
          "height": 35
        },
        "outputId": "428912a9-c3b3-4c6e-f4e0-94ce14b9fdc7"
      },
      "source": [
        "print(decToBase(420, 2))"
      ],
      "execution_count": null,
      "outputs": [
        {
          "output_type": "stream",
          "text": [
            "110100100\n"
          ],
          "name": "stdout"
        }
      ]
    },
    {
      "cell_type": "code",
      "metadata": {
        "id": "BJukUEhyo8Ho"
      },
      "source": [
        "def decToBaseMk2(x, base, decs=10):\n",
        "  '''Version 1.1. Converts Decimal floats for x > 0, to any base with decimal precision decs (default = 10).'''\n",
        "  h = {10: 'A', 11: 'B', 12: 'C', 13: 'D', 14: 'E', 15: 'F'}\n",
        "  fans = ['.']\n",
        "  wans = ''\n",
        "  c = 1\n",
        "  n = x // 1\n",
        "  if n != 0:\n",
        "    wans += decToBase(n, base=base)\n",
        "    fn = x - n\n",
        "  else:\n",
        "    fn = x\n",
        "  while fn != 0:\n",
        "    x = fn * base\n",
        "    y = x // 1\n",
        "    try:\n",
        "      fans.append(h[int(y)])\n",
        "    except:\n",
        "      fans.append(int(y))\n",
        "    if y >= 1:\n",
        "      fn = x - y\n",
        "    else:\n",
        "      fn = x\n",
        "    if c == decs:\n",
        "      break\n",
        "    c += 1\n",
        "  fans = ''.join(map(str, fans))\n",
        "  return wans + fans"
      ],
      "execution_count": null,
      "outputs": []
    },
    {
      "cell_type": "code",
      "metadata": {
        "id": "6B3LT-uZImgQ"
      },
      "source": [
        "decToBaseMk2(29, 3, decs=23)"
      ],
      "execution_count": null,
      "outputs": []
    },
    {
      "cell_type": "code",
      "metadata": {
        "id": "wZVqcGmSuvmQ"
      },
      "source": [
        "def baseToDec(base_string, base):\n",
        "  '''Version 1.1. converts a base string ex: 1010101110 into its base 10 representation. uses enumerated list'''\n",
        "  h = {'A': 10, 'B': 11, 'C': 12, 'D': 13, 'E': 14, 'F': 16}\n",
        "  bs = list(enumerate(base_string[::-1])) # reverses the string and turns it into an enumerated list\n",
        "  dec = 0\n",
        "  for i, num in bs:\n",
        "    try:\n",
        "      dec += (int(h[num]) * base**i)\n",
        "    except:\n",
        "      dec += (int(num) * base**i)\n",
        "  return dec"
      ],
      "execution_count": null,
      "outputs": []
    },
    {
      "cell_type": "code",
      "metadata": {
        "id": "lbgnWCPxUSr3",
        "colab": {
          "base_uri": "https://localhost:8080/",
          "height": 34
        },
        "outputId": "653e3c01-3884-4ee2-e2fb-de48341ec482"
      },
      "source": [
        "x = baseToDec('13', 8)\n",
        "print(decToBaseMk2(x, 5))"
      ],
      "execution_count": null,
      "outputs": [
        {
          "output_type": "stream",
          "text": [
            "21.\n"
          ],
          "name": "stdout"
        }
      ]
    },
    {
      "cell_type": "code",
      "metadata": {
        "id": "fU0nS5NBZcJp",
        "colab": {
          "base_uri": "https://localhost:8080/",
          "height": 35
        },
        "outputId": "463b16e0-b2af-43b3-f217-d7ca3661ad6d"
      },
      "source": [
        "103+25"
      ],
      "execution_count": null,
      "outputs": [
        {
          "output_type": "execute_result",
          "data": {
            "text/plain": [
              "128"
            ]
          },
          "metadata": {
            "tags": []
          },
          "execution_count": 25
        }
      ]
    },
    {
      "cell_type": "code",
      "metadata": {
        "id": "jUCST-DMolTU"
      },
      "source": [
        "def superBiSecMethod(f, a, b, e = 1e-10):\n",
        "  '''Finds roots of a function (f) on the interval [a, b] for f(r) < e using bisection method'''\n",
        "  iterations = [a, b]\n",
        "  if f(a) * f(b) < 0:\n",
        "    while True:\n",
        "      c = (a + b) / 2\n",
        "      if f(a) * f(c) < 0:\n",
        "        b = c\n",
        "      else:\n",
        "        a = c\n",
        "      iterations.append(c)\n",
        "      if abs(f(c)) < e:\n",
        "        break\n",
        "      elif f(c) == 0:\n",
        "        print('Exact root located at:', c)\n",
        "        break\n",
        "  else:\n",
        "    raise ValueError(\"function has no zero on given interval or special case\")\n",
        "  return c, iterations"
      ],
      "execution_count": null,
      "outputs": []
    },
    {
      "cell_type": "code",
      "metadata": {
        "id": "sB8efrpdMuZe"
      },
      "source": [
        "def superSecantMethod(f, x0, x1, e=1e-10):\n",
        "  '''Finds roots of function f given two points x1 and x2 close enough to the root for f(r) < e using the secant method'''\n",
        "  iterations = [x0, x1]\n",
        "  while True:\n",
        "    x2 = (x0 * f(x1) - x1 * f(x0)) / (f(x1) - f(x0))\n",
        "    x0 = x1\n",
        "    x1 = x2\n",
        "    iterations.append(x2)\n",
        "    if abs(f(x2)) < e:\n",
        "      break\n",
        "  return x0, iterations"
      ],
      "execution_count": null,
      "outputs": []
    },
    {
      "cell_type": "code",
      "metadata": {
        "id": "gVBxu5kLfRfB"
      },
      "source": [
        "def superNewton(f, x0, e=1e-10):\n",
        "  iterations = [x0]\n",
        "  x = symbols('x')\n",
        "  f_prime = lambdify(x, diff(f(x), x))\n",
        "  while True:\n",
        "    if f_prime(x0) == 0:\n",
        "      raise ValueError('You messed up.')\n",
        "    x1 = float(x0 - (f(x0) / f_prime(x0)))\n",
        "    x0 = x1\n",
        "    iterations.append(x0)\n",
        "    if abs(f(x0)) < e:\n",
        "      break\n",
        "  return x0, iterations"
      ],
      "execution_count": null,
      "outputs": []
    },
    {
      "cell_type": "code",
      "metadata": {
        "id": "OuTpg-pdt8qI",
        "colab": {
          "base_uri": "https://localhost:8080/",
          "height": 336
        },
        "outputId": "6bc2610c-3ff2-4cd0-e6d2-f038ab6a1ed9"
      },
      "source": [
        "# code for homework 4 - problem 7\n",
        "try:\n",
        "  import numpy as np # for functions\n",
        "  import matplotlib.pyplot as plt # for graphing\n",
        "except: # installs numpy to your environment if it is not already there\n",
        "  !pip install numpy\n",
        "  !pip install matplotlib\n",
        "  import numpy as np\n",
        "  import matplotlib.pyplot as plt\n",
        "\n",
        "f = lambda x: x ** 3 + 3 * x - 1 # sample functions\n",
        "g = lambda x: x ** 3 - 2 * np.sin(x)\n",
        "h = lambda x: x + 10 - x * np.cosh(50 / x)\n",
        "\n",
        "def problem7zeros(f, a, b, e = 1e-15):\n",
        "  '''Finds roots of a function f (f) on the interval [a, b]\n",
        "   using the root of line with points (a, f(a)) and (b, f(b)) with error e'''\n",
        "  if f(a) * f(b) < 0:\n",
        "    while True:\n",
        "      if (b - a) != 0:\n",
        "        m = (f(b) - f(a)) / (b - a) # slope\n",
        "      else:\n",
        "        raise ValueError('Divison by Zero occured')\n",
        "      c = a - (f(a) / m) # root of linear equation\n",
        "      if f(a) * f(c) < 0:\n",
        "        b = c\n",
        "      else:\n",
        "        a = c\n",
        "      if (abs(f(c)) < e) or (f(c) == 0):\n",
        "        break\n",
        "  else:\n",
        "    raise ValueError('function has no zero on given interval or special case')\n",
        "  return c\n",
        "\n",
        "#Test Driver\n",
        "r1 = problem7zeros(f, 0, 1)\n",
        "r2 = problem7zeros(g, 0.5, 2)\n",
        "r3 = problem7zeros(h, 120, 130)\n",
        "print('Aprox. Root of f on interval [0, 1]:', r1)\n",
        "print('Aprox. Root of g on interval [0.5, 2]:', r2)\n",
        "print('Aprox. Root of h on interval [120, 130]:', r3)\n",
        "x = np.linspace(0.5, 1.65, 100)\n",
        "plt.plot(x, g(x))\n",
        "plt.title('Graph of g(x) = x^3 - 2sin(x) - with Aproximated Zero',\n",
        "          fontdict=dict(fontsize=15))\n",
        "plt.hlines(0, 0.5, 2)\n",
        "plt.vlines(r2, -2, 2.5, colors='r')\n",
        "plt.annotate('Root of g(x) at x\\n~' + str(r2), xy=(r2, 0), fontsize=12, xycoords='data',\n",
        "            xytext=(.45, 0.8), textcoords='axes fraction',\n",
        "            arrowprops=dict(facecolor='black', shrink=0.05),\n",
        "            horizontalalignment='right', verticalalignment='top')\n",
        "plt.show()"
      ],
      "execution_count": null,
      "outputs": [
        {
          "output_type": "stream",
          "text": [
            "Aprox. Root of f on interval [0, 1]: 0.32218535462608555\n",
            "Aprox. Root of g on interval [0.5, 2]: 1.2361839280949407\n",
            "Aprox. Root of h on interval [120, 130]: 126.6324360399887\n"
          ],
          "name": "stdout"
        },
        {
          "output_type": "display_data",
          "data": {
            "image/png": "[encoded data removed]",
            "text/plain": [
              "<Figure size 432x288 with 1 Axes>"
            ]
          },
          "metadata": {
            "tags": []
          }
        }
      ]
    },
    {
      "cell_type": "code",
      "metadata": {
        "id": "DvKWEslH8l7a",
        "colab": {
          "base_uri": "https://localhost:8080/",
          "height": 523
        },
        "outputId": "f502b7c1-be2c-4e2e-aadf-2304b1f69ca7"
      },
      "source": [
        "g = lambda x: x*cosh(50 / x) - x - 5\n",
        "error = 1e-7\n",
        "rbs, ibs = superBiSecMethod(g, 245, 255, error)\n",
        "rse, ise = superSecantMethod(g, 250, 249, error)\n",
        "rnm, inm = superNewton(g, 249, error)\n",
        "print('BISECTION. root aproximated | f(r) <', error,\n",
        "      'r:', rbs, 'in', len(ibs)-2, 'iterations.')\n",
        "print('SECANT. root aproximated | f(r) <', error,\n",
        "      'r:', rse, 'in', len(ise)-2, 'iterations.')\n",
        "print('NEWTONS. root aproximated | f(r) <', error,\n",
        "      'r:', rnm, 'in', len(inm) -1, 'iterations.')\n",
        "bisecit, secit, nit = np.asarray(ibs), np.asarray(ise), np.asarray(inm)\n",
        "xbs, xs, xn = np.linspace(0, len(ibs), len(ibs)), np.linspace(0, len(ise), len(ise)),np.linspace(0, len(inm), len(inm))\n",
        "f, (bs, sc, nt) = plt.subplots(1, 3, sharey=True)\n",
        "f.set_figheight(2)\n",
        "f.set_figwidth(5)\n",
        "f.set_dpi(200)\n",
        "bs.set_title(\"Bisection\")\n",
        "bs.plot(xbs, bisecit)\n",
        "#axins = zoomed_inset_axes(nt, 3, loc=1)\n",
        "#x1, x2, y1, y2 = 10, 15, 250.5, 251.2\n",
        "#plt.yticks(visible=False)\n",
        "#plt.xticks(visible=False)\n",
        "#axins.set_xlim(x1, x2)\n",
        "#axins.set_ylim(y1, y2)\n",
        "#mark_inset(nt, axins, loc1=3, loc2=4, ec='0.5')\n",
        "sc.set_title(\"Secant\")\n",
        "sc.plot(xs, secit)\n",
        "nt.set_title(\"Newton\")\n",
        "nt.plot(xn, nit)\n",
        "plt.draw()\n"
      ],
      "execution_count": null,
      "outputs": [
        {
          "output_type": "stream",
          "text": [
            "BISECTION. root aproximated | f(r) < 1e-07 r: 250.8289337158203 in 17 iterations.\n",
            "SECANT. root aproximated | f(r) < 1e-07 r: 250.828886810711 in 3 iterations.\n",
            "NEWTONS. root aproximated | f(r) < 1e-07 r: 250.82893102968058 in 2 iterations.\n"
          ],
          "name": "stdout"
        },
        {
          "output_type": "display_data",
          "data": {
            "image/png": "[encoded data removed]",
            "text/plain": [
              "<Figure size 1000x400 with 3 Axes>"
            ]
          },
          "metadata": {
            "tags": []
          }
        }
      ]
    },
    {
      "cell_type": "code",
      "metadata": {
        "id": "Bm3a25Kqk00y"
      },
      "source": [
        "h = lambda x: rnm * np.cosh(x / rnm) - 200\n",
        "x = np.linspace(-50, 50, 200)\n",
        "fill = np.linspace(0, 500, 10)\n",
        "fig = plt.figure(figsize=(5, 3), dpi=200)\n",
        "ax = plt.axes()\n",
        "ax.axis([0, 500, -50, 100])\n",
        "ax.set_facecolor('skyblue')\n",
        "ax.set_adjustable('box')\n",
        "plt.gca().set_aspect('equal')\n",
        "ax.fill_between(fill, -50, color='g')\n",
        "for i in range(-50, 550, 100):\n",
        "  ax.plot([i+50, i+50], [0, h(-50)], c='saddlebrown', lw=2)\n",
        "for i in range(0, 500, 100):\n",
        "  ax.plot(x+i+50, h(x), c='black', lw=1)"
      ],
      "execution_count": null,
      "outputs": []
    },
    {
      "cell_type": "code",
      "metadata": {
        "id": "jvd3cBWKcsyU"
      },
      "source": [
        "# HW 6 - Problem 8\n",
        "# dependncies include: Numpy as np, and sympy*\n",
        "def getCoefficients(x, y):\n",
        "  '''returns array of coefficients from the top divided differences'''\n",
        "  n = len(x)\n",
        "  x, a = np.asarray(x), np.asarray(y)\n",
        "  for i in range(1, n):\n",
        "    a[i:n] = (a[i:n]-a[i-1])/(x[i:n]-x[i-1])\n",
        "  return a\n",
        "\n",
        "def newtonPoly(*data, Lambda=False):\n",
        "  '''evaluates newton's interpolated polynomial at point x with data in the form\n",
        "  (x1, x2, ... xn, y1, y2 ,.. yn) and returns the reduced polynomial.\n",
        "  for lambda function use Lambda=True or False for Sympy Expresion\n",
        "  default value of Lambda=False'''\n",
        "  if len(data) % 2 != 0:\n",
        "    raise ValueError(\"Please enter data in correct form: x1, x2, ... xn, y1, y2 ,.. yn\")\n",
        "  x = symbols('x')\n",
        "  m = len(data) // 2\n",
        "  x_data, y_data = data[:m], data[m:]\n",
        "  a = getCoefficients(x_data, y_data)\n",
        "  p = a[m-1]\n",
        "  for i in range(1, m):\n",
        "    p = a[m-1-i] + (x - x_data[m-1-i])*p # evaluate for pn(x)\n",
        "  if Lambda:\n",
        "    return lambdify(x, p.expand(), \"numpy\")\n",
        "  else:\n",
        "    return p.expand()\n",
        "\n",
        "#Test Driver\n",
        "#print('With y = x**2 in mind as a toy problem the program is used to interpolate the data:')\n",
        "#print('X: 0, 1, 2, 3\\ny: 0, 1, 4, 9\\nReduced Polynomial:', newtonPoly(0,1,2,3,0,1,4,9))\n",
        "#poly = newtonPoly(1,2,3,-4,5,2,48,272,1182,2262)\n",
        "#polye = newtonPoly(1,2,3,-4,5,2,48,272,1182,2262, Lambda=True)\n",
        "#print('\\nFor Problem 8:\\nx: 1, 2, 3, -4, 5\\ny: 2, 48, 272, 1182, 2262')\n",
        "#print('The unique polynomial that interprets this data is N(x) =', poly)\n",
        "#print('Thus, N(-1) =', polye(-1))\n"
      ],
      "execution_count": null,
      "outputs": []
    },
    {
      "cell_type": "code",
      "metadata": {
        "id": "hJV6Nu1t_0V8",
        "colab": {
          "base_uri": "https://localhost:8080/",
          "height": 85
        },
        "outputId": "8d031def-4708-43af-e621-e8470345e16d"
      },
      "source": [
        "print(getCoefficients([-2,-1,0,1,2,3],[31,5,1,1,11,61]))\n",
        "print(getCoefficients([-2,-1,0,1,2,3],[31,5,1,1,11,37]))\n",
        "print(newtonPoly(-2,-1,0,1,2,3,31,5,1,1,11,61))\n",
        "print(newtonPoly(-2,-1,0,1,2,3,31,5,1,1,11,37))"
      ],
      "execution_count": null,
      "outputs": [
        {
          "output_type": "stream",
          "text": [
            "[ 31 -26  11  -3   1   0]\n",
            "[ 31 -26  11  -3   1   0]\n",
            "x**4 - x**3 + x**2 - x + 1\n",
            "x**4 - x**3 + x**2 - x + 1\n"
          ],
          "name": "stdout"
        }
      ]
    },
    {
      "cell_type": "code",
      "metadata": {
        "id": "GPUyDNLHnNyG"
      },
      "source": [
        "def twoDNewtons(f1, f2, x0, y0, e=1e-10):\n",
        "  '''Aproximates the root vector [r1, r2] given the vector value function f(x, y) = [f1, f2]\n",
        "  with an error of e'''\n",
        "  x, y = symbols('x y')\n",
        "  f1dx = lambdify((x, y), diff(f1(x, y), x))\n",
        "  f1dy = lambdify((x, y), diff(f1(x, y), y))\n",
        "  f2dx = lambdify((x, y), diff(f2(x, y), x))\n",
        "  f2dy = lambdify((x, y), diff(f2(x, y), y))\n",
        "  while True:\n",
        "    detj = float(f1dx(x0, y0)*f2dy(x0, y0)-f1dy(x0, y0)*f2dx(x0, y0))\n",
        "    assert detj != 0\n",
        "    h1 = float((f2dy(x0, y0)*f1(x0, y0)-f1dy(x0, y0)*f2(x0, y0)) / detj)\n",
        "    h2 = float((f1dx(x0, y0)*f2(x0, y0)-f2dx(x0, y0)*f1(x0, y0)) / detj)\n",
        "    x1, y1 = x0 - h1, y0 - h2\n",
        "    x0, y0 = x1, y1\n",
        "    if float((f1(x0, y0)**2 + f2(x0, y0)**2)**.5) < e:\n",
        "      break\n",
        "  return x0, y0"
      ],
      "execution_count": null,
      "outputs": []
    },
    {
      "cell_type": "code",
      "metadata": {
        "id": "oJ-SFUf0lXNH",
        "colab": {
          "base_uri": "https://localhost:8080/",
          "height": 282
        },
        "outputId": "4a7603e3-4cbe-4c36-fd52-b70dc7d5d373"
      },
      "source": [
        "# only 1st case line\n",
        "f1 = lambda x, y: 40 + x*cosh(y/x) - x*cosh((100+y)/x)\n",
        "f2 = lambda x, y: 23 + x*cosh((50+y)/x) - x*cosh((100+y)/x)\n",
        "#f2 = lambda x, y: 3 +(x*cosh(y/x) - x*cosh((100+y)/x))/2\n",
        "#f1 = lambda x, y: x*(cosh((200+y)/x) - cosh((100+y)/x))\n",
        "#f2 = lambda x, y: (x/2)*(cosh((100+y)/x) - cosh((150+y)/x))\n",
        "r1, r2 = twoDNewtons(f1, f2, 400, 400, e=1e-18)\n",
        "print(r1, r2)\n",
        "xn = np.linspace(0, 100, 200)\n",
        "f = lambda x: r1*np.cosh((x+r2)/r1) - 416.55766\n",
        "plt.plot(xn, f(xn), c='black', lw=3)\n",
        "for i in range(0, 101, 100):\n",
        "  plt.plot([i, i], [f(i) - 50, f(i)], c='saddlebrown', lw=6)\n",
        "plt.fill_between([0,100], [0, 40], color='forestgreen')\n",
        "plt.show()"
      ],
      "execution_count": null,
      "outputs": [
        {
          "output_type": "stream",
          "text": [
            "449.09976162946924 124.82064826272037\n"
          ],
          "name": "stdout"
        },
        {
          "output_type": "display_data",
          "data": {
            "image/png": "[encoded data removed]",
            "text/plain": [
              "<Figure size 432x288 with 1 Axes>"
            ]
          },
          "metadata": {
            "tags": []
          }
        }
      ]
    },
    {
      "cell_type": "code",
      "metadata": {
        "id": "pXr7ASJbneHi",
        "colab": {
          "base_uri": "https://localhost:8080/",
          "height": 568
        },
        "outputId": "dd4b5f05-e45f-4b27-9079-b12abe2b80e0"
      },
      "source": [
        "# f1 and f2 given x = lambda and y = c\n",
        "f = lambda x, l, c, h0: h0 + l*np.cosh((x+c)/l)\n",
        "ints = np.array([0,100,200,300,400,500,600,700,800,900,1000])\n",
        "relHeights = np.array([0, 40, 90, 50, 35, 5, -12, -20, -10, 8, 20]) # heights between poles\n",
        "#file1 = open(r\"/content/drive/My Drive/rootsForLatek.txt\", 'a')\n",
        "lambdas = []\n",
        "cs = []\n",
        "\n",
        "fig = plt.figure(1, (5.8,3), 200) # Case 2: Uneven Ground Figure\n",
        "ax = plt.axes()\n",
        "ax.axis([-3, 1003, -30, 150])\n",
        "ax.set_facecolor('skyblue')\n",
        "\n",
        "for i in range(10):\n",
        "  a, b = i*100, (i+1)*100 # current interval [a, b]\n",
        "  f1 = lambda x, y: x*cosh((a+y)/x)-x*cosh((b+y)/x)+relHeights[i+1]-relHeights[i] # Function 1 for interval\n",
        "  f2 = lambda x, y: x*cosh((((a+b)/2)+y)/x)-x*cosh((b+y)/x)+((relHeights[i+1]-relHeights[i])/2)+3 # Function 2 for interval\n",
        "  r1, r2 = twoDNewtons(f1, f2,  100, 100, e=1e-10) # find lambda and c\n",
        "  x = np.linspace(int(a), int(b), 200) # x array for the lines\n",
        "  x_new = np.linspace(0, 1000, 500) # x array for the ground\n",
        "  spl = make_interp_spline(ints, relHeights, k=3) # smooth ground\n",
        "  power_smooth = spl(x_new)\n",
        "  v_shift = 25 + relHeights[i] - f(a, r1, r2, 0) # find h0\n",
        "  ax.plot(x, f(x, r1, r2, v_shift), c='black', lw=1)\n",
        "  ax.plot([a, a], [f(a, r1, r2, v_shift)-25, f(a, r1, r2, v_shift)], c='saddlebrown', lw=1.5)\n",
        "  lambdas.append(r1)\n",
        "  cs.append(r2)\n",
        "  #file1.write('Interval ' + str(i+1) + r': \\lambda \\approx ' + str(r1) + r' c \\approx ' + str(r2) + r' h_0 \\approx ' + str(v_shift) + '\\n')\n",
        "#file1.close()\n",
        "ax.plot([1000, 1000], [f(1000, r1, r2, v_shift)-25, f(1000, r1, r2, v_shift)] , c='saddlebrown', lw=1.5)\n",
        "ax.fill_between(x_new, power_smooth, -30, color='forestgreen')\n",
        "plt.show()"
      ],
      "execution_count": null,
      "outputs": [
        {
          "output_type": "display_data",
          "data": {
            "image/png": "[encoded data removed]",
            "text/plain": [
              "<Figure size 1160x600 with 1 Axes>"
            ]
          },
          "metadata": {
            "tags": []
          }
        }
      ]
    },
    {
      "cell_type": "code",
      "metadata": {
        "id": "S8k4h5WABnaO"
      },
      "source": [
        "l = lambda x, y: (x*(np.sinh((b+y)/x)-np.sinh((a+y)/x)))\n",
        "file2 = open(r\"/content/drive/My Drive/lengths.txt\", 'a')\n",
        "for i in range(len(lambdas)):\n",
        "  a, b = i*100, (i+1)*100\n",
        "  lent = l(lambdas[i], cs[i])\n",
        "  file2.write(\"Cable \" + str(i+1) + \" Length: \" + str(lent) + '\\n')\n",
        "file2.close()"
      ],
      "execution_count": null,
      "outputs": []
    },
    {
      "cell_type": "code",
      "metadata": {
        "id": "snxjR50eXwRO"
      },
      "source": [
        "# Python code for HW-7 Question 6\n",
        "def Richardson(f, x, n, h):\n",
        "  d = np.zeros((n, n)) # initialize nxn array of zeros\n",
        "  for i in range(n):\n",
        "    d[i,0] = (f(x+h)-f(x-h)) / (2*h)\n",
        "    for j in range(1, i+1):\n",
        "      d[i, j] = d[i, j-1] + ((d[i,j-1] - d[i-1, j-1]) / ((4**j) - 1))\n",
        "    h /= 2\n",
        "  return d\n",
        "\n",
        "f = lambda x: np.sin(x) # sample funciton\n",
        "num = np.arccos(1/3) # use this for the value of x to get aprox .3333333...\n",
        "d = Richardson(f, num, 10, 1) # n is equal to 10 and h is equal to 1 for this case\n",
        "print(\"Derivative of f at x is approximately:\", d[9,9]) # notice best aproximation is at [n, n]"
      ],
      "execution_count": null,
      "outputs": []
    },
    {
      "cell_type": "code",
      "metadata": {
        "id": "D9zvzLvkqDYI"
      },
      "source": [
        "def trapezoid(f, a, b, n):\n",
        "  tSum = 0\n",
        "  h = (b - a) / n\n",
        "  for i in range(n):\n",
        "    tSum += (f(a + h*i) + f(a + h*(i+1)))\n",
        "  return  (h*tSum) / 2"
      ],
      "execution_count": null,
      "outputs": []
    },
    {
      "cell_type": "code",
      "metadata": {
        "id": "QSInqWSQGfhJ",
        "colab": {
          "base_uri": "https://localhost:8080/",
          "height": 71
        },
        "outputId": "5795da3c-c275-4a66-cc7b-aff2896820d7"
      },
      "source": [
        "f = lambda x: np.sin(x)\n",
        "g = lambda x: np.e**-x\n",
        "h = lambda x: np.arctan(x)\n",
        "n = 100 # subintervals for all\n",
        "fIntExact = 2\n",
        "gIntClose = 0.632120558829\n",
        "hIntClose = .438824573117\n",
        "fIntAprox = trapezoid(f, 0, np.pi, n)\n",
        "gIntAprox = trapezoid(g, 0, 1, n)\n",
        "hIntAprox = trapezoid(h, 0, 1, n)\n",
        "print(\"For f, The exact value is\", fIntExact, \"and the aproximated value is\", fIntAprox)\n",
        "print(\"For g, The exact value is about\", gIntClose, \"and the aproximated value is\", gIntAprox)\n",
        "print(\"For h, The exact value is about\", hIntClose, \"and the aproximated value is\", hIntAprox)"
      ],
      "execution_count": null,
      "outputs": [
        {
          "output_type": "stream",
          "text": [
            "For f, The exact value is 2 and the aproximated value is 1.999835503887444\n",
            "For g, The exact value is about 0.632120558829 and the aproximated value is 0.6321258264911017\n",
            "For h, The exact value is about 0.438824573117 and the aproximated value is 0.43882040641608583\n"
          ],
          "name": "stdout"
        }
      ]
    },
    {
      "cell_type": "code",
      "metadata": {
        "id": "EhYuJX5u01-Y"
      },
      "source": [
        "def tTrap(y, a, b, n):\n",
        "  tSum = 0\n",
        "  h = (b - a) / n\n",
        "  for i in range(n):\n",
        "    tSum += (y[i] + y[i+1])\n",
        "    print(i)\n",
        "  return (h*tSum) / 2"
      ],
      "execution_count": null,
      "outputs": []
    },
    {
      "cell_type": "code",
      "metadata": {
        "id": "SbUlqGrJrxeX",
        "colab": {
          "base_uri": "https://localhost:8080/",
          "height": 107
        },
        "outputId": "11c9ed0f-ae99-407f-99af-8521cb2c26a6"
      },
      "source": [
        "f = lambda x: (x**2 + 2)**-1\n",
        "ys = [10, 8, 7, 6, 5]\n",
        "tTrap(ys, 1, 2, 4)"
      ],
      "execution_count": null,
      "outputs": [
        {
          "output_type": "stream",
          "text": [
            "0\n",
            "1\n",
            "2\n",
            "3\n"
          ],
          "name": "stdout"
        },
        {
          "output_type": "execute_result",
          "data": {
            "text/plain": [
              "7.125"
            ]
          },
          "metadata": {
            "tags": []
          },
          "execution_count": 32
        }
      ]
    }
  ]
}