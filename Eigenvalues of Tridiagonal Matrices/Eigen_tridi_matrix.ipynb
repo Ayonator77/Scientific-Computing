{
  "nbformat": 4,
  "nbformat_minor": 0,
  "metadata": {
    "colab": {
      "provenance": [],
      "include_colab_link": true
    },
    "kernelspec": {
      "name": "python3",
      "display_name": "Python 3"
    }
  },
  "cells": [
    {
      "cell_type": "markdown",
      "metadata": {
        "id": "view-in-github",
        "colab_type": "text"
      },
      "source": [
        "<a href=\"https://colab.research.google.com/github/Ayonator77/Scientific-Computing/blob/main/m451p2.ipynb\" target=\"_parent\"><img src=\"https://colab.research.google.com/assets/colab-badge.svg\" alt=\"Open In Colab\"/></a>"
      ]
    },
    {
      "cell_type": "code",
      "metadata": {
        "id": "XLfOH95I5Qzs"
      },
      "source": [
        "import numpy as np\n",
        "from sympy import *\n",
        "import matplotlib.pyplot as plt"
      ],
      "execution_count": null,
      "outputs": []
    },
    {
      "cell_type": "code",
      "metadata": {
        "id": "j7jppNYa1Vzz"
      },
      "source": [
        "def triDyGuy(a, b, c, d):\n",
        "  '''Funtion that takes a tridiagonal matrix A with diaganoals a, b, and c\n",
        "  where a is the sub diagonal, b is the true diagonal, and c is the super\n",
        "  diagonal. Vector d is the constant vector. These are used to compute and\n",
        "  return the solution vector x in from the form Ax = b'''\n",
        "  n = len(d) # number of equations or rank of matrix\n",
        "  a, b = map(np.array, a.astype(float), b.astype(float)) # prepare arrays\n",
        "  c, d = map(np.array, c.astype(float), d.astype(float)) # prepare arrays\n",
        "  for i in range(1, n):\n",
        "    xi = a[i-1] / b[i-1]\n",
        "    b[i] = b[i] - xi*c[i-1]\n",
        "    d[i] = d[i] - xi*d[i-1]\n",
        "  x = b\n",
        "  x[-1] = d[-1] / b[-1]\n",
        "  for i in range(n-2, -1, -1):\n",
        "    x[i] = (d[i] - c[i]*x[i+1])/ b[i]\n",
        "  return x"
      ],
      "execution_count": null,
      "outputs": []
    },
    {
      "cell_type": "code",
      "metadata": {
        "id": "YYgMED126-Es",
        "outputId": "fbcef827-31c3-466a-ede0-33c671323ee7",
        "colab": {
          "base_uri": "https://localhost:8080/",
          "height": 143
        }
      },
      "source": [
        "A = np.array([[-2,1,0,0,0],\n",
        "              [1,-2,1,0,0],\n",
        "              [0,1,-2,1,0],\n",
        "              [0,0,1,-2,1],\n",
        "              [0,0,0,1,-1]], dtype=float)\n",
        "ev, evec = np.linalg.eig(A) # unpacks into eigenvalues, eigenvectors\n",
        "print(ev, '\\n')\n",
        "print(evec)"
      ],
      "execution_count": null,
      "outputs": [
        {
          "output_type": "stream",
          "text": [
            "[-3.68250707 -2.83083003 -1.71537032 -0.69027853 -0.08101405] \n",
            "\n",
            "[[-0.32601868 -0.54852873  0.59688479 -0.45573414  0.16989112]\n",
            " [ 0.54852873  0.45573414  0.16989112 -0.59688479  0.32601868]\n",
            " [-0.59688479  0.16989112 -0.54852873 -0.32601868  0.45573414]\n",
            " [ 0.45573414 -0.59688479 -0.32601868  0.16989112  0.54852873]\n",
            " [-0.16989112  0.32601868  0.45573414  0.54852873  0.59688479]]\n"
          ],
          "name": "stdout"
        }
      ]
    },
    {
      "cell_type": "code",
      "metadata": {
        "id": "aVEkfR_KcIIC"
      },
      "source": [
        "def superNewton(f, x0, e=1e-10):\n",
        "  iterations = [x0]\n",
        "  x = symbols('x')\n",
        "  f_prime = lambdify(x, diff(f(x), x))\n",
        "  while True:\n",
        "    if f_prime(x0) == 0:\n",
        "      raise ValueError('You messed up.')\n",
        "    x1 = float(x0 - (f(x0) / f_prime(x0)))\n",
        "    x0 = x1\n",
        "    iterations.append(x0)\n",
        "    if abs(f(x0)) < e:\n",
        "      break\n",
        "  return x0, iterations"
      ],
      "execution_count": null,
      "outputs": []
    },
    {
      "cell_type": "code",
      "metadata": {
        "id": "HdOqW-7fJG8U"
      },
      "source": [
        "def getCharPoly(subd, d, n):\n",
        "  '''This function takes the  subdiagonal and diagonal of the hermetian\n",
        "  matrix and computes the characteristic polynomial implementing the\n",
        "  recursive formula from part 1. n is the rank of the hermetian matrix.\n",
        "  This function returns a factored sympy polynomial expression'''\n",
        "  x = symbols('x')\n",
        "  subd, d = subd.astype(float), d.astype(float)\n",
        "  if n == 1:\n",
        "    p = (d[0] - x)\n",
        "    return p\n",
        "  elif n == 2:\n",
        "    p = (d[1] - x)*(d[0] - x) - abs(subd[0]**2)\n",
        "    return p\n",
        "  else:\n",
        "    a = (d[n-1] - x)*getCharPoly(subd, d, n-1)\n",
        "    p = a - abs(subd[n-2]**2)*subd[n-3]*getCharPoly(subd, d, n-2)\n",
        "    return factor(p)"
      ],
      "execution_count": null,
      "outputs": []
    },
    {
      "cell_type": "code",
      "metadata": {
        "id": "ygOS9IlPXj8-",
        "outputId": "4158188b-d342-4d93-eafd-14449cb6e8de",
        "colab": {
          "base_uri": "https://localhost:8080/",
          "height": 281
        }
      },
      "source": [
        "x = symbols('x')\n",
        "subd = np.array([1,1,1,1])\n",
        "d = np.array([-2,-2,-2,-2,-1])\n",
        "\n",
        "f = getCharPoly(subd, d, 5)\n",
        "#print(\"the characteristic polynomial is:\", f)\n",
        "#print(\"latex\", latex(f))\n",
        "# these two lines of code use newton's method to find the roots of the\n",
        "# charicteristic polynomial and add the roots to teh foundEVS list\n",
        "f = lambdify(x, f, 'numpy')\n",
        "#a, b = superNewton(f, -2.5)\n",
        "#foundEVS = [-0.08101405277100507, -0.6902785321094295, -3.682507065662369, -1.715370323453437, -2.8308300260037758]\n",
        "#foundEVS.sort()\n",
        "#print(\"Devon's homemade Eigenvalues are:\\n\\t\", foundEVS)\n",
        "#print(\"Numpy's calculated Eigenvalues:\\n\\t\", ev)\n",
        "xr = np.arange(-4, .1, .001)\n",
        "plt.plot(xr, f(xr))\n",
        "plt.hlines(0, -4, .1, colors='black')\n",
        "plt.title(\"Wavy boy\")\n",
        "plt.show()"
      ],
      "execution_count": null,
      "outputs": [
        {
          "output_type": "display_data",
          "data": {
            "image/png": "[encoded data removed]",
            "text/plain": [
              "<Figure size 432x288 with 1 Axes>"
            ]
          },
          "metadata": {
            "tags": [],
            "needs_background": "light"
          }
        }
      ]
    }
  ]
}
